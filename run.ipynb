{
 "cells": [
  {
   "cell_type": "code",
   "execution_count": 104,
   "metadata": {},
   "outputs": [
    {
     "name": "stdout",
     "output_type": "stream",
     "text": [
      "Stored 'mobile_constant' (int)\n",
      "Stored 'channel_gain' (float)\n",
      "Stored 'gaussian_noise' (float)\n",
      "Stored 'channel_bandwidth' (float)\n",
      "Stored 'mobile_device_x_coordinates' (list)\n",
      "Stored 'mobile_device_y_coordinates' (list)\n",
      "Stored 'edge_device_cluster_x_coordinates' (list)\n",
      "Stored 'edge_device_cluster_y_coordinates' (list)\n",
      "Stored 'mobile_device_computing_power' (list)\n",
      "Stored 'mobile_device_transmission_power' (list)\n",
      "Stored 'task_bits' (list)\n",
      "Stored 'CPU_cycle_task_bit' (list)\n",
      "Stored 'execution_deadline' (list)\n",
      "Stored 'edge_device_computing_power' (list)\n",
      "Stored 'free_cluster_next_time' (list)\n",
      "Stored 'mobile_constant' (int)\n",
      "Stored 'channel_gain' (float)\n",
      "Stored 'gaussian_noise' (float)\n",
      "Stored 'channel_bandwidth' (float)\n",
      "Stored 'mobile_device_x_coordinates' (list)\n",
      "Stored 'mobile_device_y_coordinates' (list)\n",
      "Stored 'edge_device_cluster_x_coordinates' (list)\n",
      "Stored 'edge_device_cluster_y_coordinates' (list)\n",
      "Stored 'mobile_device_computing_power' (list)\n",
      "Stored 'mobile_device_transmission_power' (list)\n",
      "Stored 'task_bits' (list)\n",
      "Stored 'CPU_cycle_task_bit' (list)\n",
      "Stored 'execution_deadline' (list)\n",
      "Stored 'edge_device_computing_power' (list)\n",
      "Stored 'free_cluster_next_time' (list)\n"
     ]
    }
   ],
   "source": [
    "%run cluster.ipynb"
   ]
  },
  {
   "cell_type": "code",
   "execution_count": 105,
   "metadata": {},
   "outputs": [],
   "source": [
    "cluster_assigning(0.5,0.5)"
   ]
  }
 ],
 "metadata": {
  "kernelspec": {
   "display_name": "Python 3",
   "language": "python",
   "name": "python3"
  },
  "language_info": {
   "codemirror_mode": {
    "name": "ipython",
    "version": 3
   },
   "file_extension": ".py",
   "mimetype": "text/x-python",
   "name": "python",
   "nbconvert_exporter": "python",
   "pygments_lexer": "ipython3",
   "version": "3.11.1"
  }
 },
 "nbformat": 4,
 "nbformat_minor": 2
}
