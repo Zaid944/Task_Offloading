{
  "cells": [
    {
      "cell_type": "code",
      "execution_count": 1,
      "metadata": {
        "id": "WOqD8tDpSHVc"
      },
      "outputs": [],
      "source": [
        "# Throughput \n",
        "# Graph plot change \n",
        "# Halls theorem : it states that if there is a set S having n elements and a set T having m elements with the preference for each i in S as {T2,T3,T4},{T1,T3,T4}....{T1,Tm}\n",
        "# then if for each subset in S, P if cardinality(P) <= cardinality(Neighbour(P)) then a matching is possible for this bipartite graph (no two edges must have a common vertex)\n",
        "# A -> (1, 2) , B -> (2), C -> (3)\n",
        "# task -> frequency of arrival, size, CPU cycles required, deadline\n",
        "# ith[1,0,0,0,0]\n",
        "# [0,1,0,0,0]\n",
        "# 0.5\n",
        "# 0th [ 0 0 0 0 0 0.4 0 0 0 0 ]\n",
        "# 1th [ 0 0.2 0 0 0 0 0 0 0 0 ]\n",
        "\n",
        "# matrix of offloading where Aij represents the fraction of bits offloaded to edge server j of task i\n",
        "# A mobile device Ui can only offload to a single edge server Ej\n",
        "# the local computation time = ((1 - sum(Aij)) * Qi * Ci) / fi (Qi -> total bits, Ci -> CPU cycles for single bit, fi -> CPU cycles/sec for the mobile device)\n",
        "# local energy consumption = (1 - sum(Aij)) * Qi * Ci * k * (fi)^2 (k -> mobile constant)\n",
        "# Uplink Rate = Wlog(1 + (Pi * Gij) / N) (W -> uplink channel bandwidth, Pi -> transmission power of device i, Gij -> channel gain, N -> Gaussian Noise)\n",
        "# Upload Time = sum((Aij * Qi) / Rij)\n",
        "# Time at MEC = sum((Aij * Qi * Ci) / fj)\n",
        "# Energy consumed in Transmission = sum(((Aij * Qi) / Rij) * Pi)\n",
        "\n",
        "# Overall Delay = T(local) + T(transmission) + T(MEC)\n",
        "# Overall Energy = E(local) + E(transmission)\n",
        "# utility\n",
        "# Priority of task = Total CPU Cycles / Execution Deadline\n",
        "# Priority of Edge Server = Fj / (dist(u,Mj)) ^ x\n",
        "\n",
        "# Threshold for edge server selection priority >= 0.6\n",
        "# (A,B,C), (A,D), (A,E) -> 0.6\n",
        "# (A,D,E), (A,E), (A,W) -> 0.7\n",
        "\n",
        "# Threshold vs Energy, Threshold vs Time, Threshold vs Matching Found\n",
        "\n",
        "# Assumption\n",
        "# Each mobile device has a single task to perform\n",
        "\n",
        "# threshold, offloading factor"
      ]
    },
    {
      "cell_type": "code",
      "execution_count": null,
      "metadata": {},
      "outputs": [],
      "source": [
        "# ni(t) = number of computing task at the ith cluster in tth time slot\n",
        "# distance b/w cluster of edge server and mobile devices"
      ]
    },
    {
      "cell_type": "code",
      "execution_count": 2,
      "metadata": {
        "id": "oq35VidjcCHg"
      },
      "outputs": [],
      "source": [
        "import math\n",
        "import matplotlib.pyplot as plt\n",
        "import numpy as np\n",
        "import random"
      ]
    },
    {
      "cell_type": "code",
      "execution_count": null,
      "metadata": {},
      "outputs": [],
      "source": [
        "def cardinality_of_neighbours(nums):\n",
        "    distinct_elements = set()\n",
        "    for list in nums[0]:\n",
        "        for element in list:\n",
        "            distinct_elements.add(element)\n",
        "    return len(distinct_elements)"
      ]
    },
    {
      "cell_type": "code",
      "execution_count": null,
      "metadata": {},
      "outputs": [],
      "source": [
        "def halls_theorem(configuration, subset, index):\n",
        "  if index == len(configuration):\n",
        "    if len(subset) <= cardinality_of_neighbours(subset):\n",
        "      return True\n",
        "    else:\n",
        "      return False\n",
        "  ans = True\n",
        "  # including\n",
        "  subset.append(configuration[index])\n",
        "  ans = ans and halls_theorem(configuration, subset, index + 1)\n",
        "  subset.pop()\n",
        "  # excluding\n",
        "  ans = ans and halls_theorem(configuration, subset, index + 1)\n",
        "  return ans"
      ]
    },
    {
      "cell_type": "code",
      "execution_count": null,
      "metadata": {},
      "outputs": [],
      "source": [
        "def selection_algorithm(pair_possible_configuration_task, visited, index, matching): # O(n * 2 ^ (m))\n",
        "    if index == len(pair_possible_configuration_task):\n",
        "        return True\n",
        "    found = False\n",
        "    for edge_server in pair_possible_configuration_task[index][0]:\n",
        "        if edge_server not in visited:\n",
        "            visited.add(edge_server)\n",
        "            matching.append([pair_possible_configuration_task[index][1],edge_server])\n",
        "            found = found or selection_algorithm(pair_possible_configuration_task, visited, index + 1, matching)\n",
        "            if found:\n",
        "                return True\n",
        "            matching.pop()\n",
        "            visited.remove(edge_server)\n",
        "    return found"
      ]
    },
    {
      "cell_type": "code",
      "execution_count": null,
      "metadata": {},
      "outputs": [],
      "source": [
        "def edge_device_selection(edge_server_x_coordinates, edge_server_y_coordinates,mobile_device_x_coordinates,mobile_device_y_coordinates,threshold,offloading_factor_value,mobile_device_computing_power,mobile_device_transmission_power,task_bits,CPU_cycle_task_bit,execution_deadline,edge_device_computing_power):\n",
        "    total_time_taken = 0\n",
        "\n",
        "    number_of_mobile_devices = len(mobile_device_x_coordinates)\n",
        "    number_of_edge_servers = len(edge_server_x_coordinates)\n",
        "    possible_configuration = []\n",
        "    for i in range(0, number_of_mobile_devices):\n",
        "      possible_edge_servers = []\n",
        "      for j in range(0, number_of_edge_servers):\n",
        "        planar_distance = math.sqrt((edge_server_x_coordinates[j]-mobile_device_x_coordinates[i])**2 + (edge_server_y_coordinates[j]-mobile_device_y_coordinates[i])**2)\n",
        "        priority = mobile_device_computing_power[j] / planar_distance\n",
        "        if priority >= threshold:\n",
        "          possible_edge_servers.append([j,priority])  \n",
        "      sorted(possible_edge_servers, key=lambda edge_server: edge_server[1], reverse = True)\n",
        "      sorted_by_priority_edge_server = []\n",
        "      for list in possible_edge_servers:\n",
        "        sorted_by_priority_edge_server.append(list[0])\n",
        "      possible_configuration.append(sorted_by_priority_edge_server)  \n",
        "\n",
        "\n",
        "    # pair of configuration for a md and index and sorted in priority of task\n",
        "    pair_possible_configuration_task = []\n",
        "    \n",
        "    priority_task = []\n",
        "    for i in range(0,number_of_mobile_devices):\n",
        "      priority_task.append([(task_bits[i] * CPU_cycle_task_bit[i]) / execution_deadline[i],i])\n",
        "    sorted(priority_task, key=lambda priority: priority[0], reverse = True)\n",
        "\n",
        "    for i in range(0,len(priority_task)):\n",
        "      index = priority_task[i][1]\n",
        "      pair_possible_configuration_task.append([possible_configuration[index],index])\n",
        "\n",
        "    while len(pair_possible_configuration_task)>0:\n",
        "      # [[configuration for ith task],i]\n",
        "      current_excluded = []\n",
        "      # send possible configuration enough for hall's theorem\n",
        "      if halls_theorem(pair_possible_configuration_task, [], 0):\n",
        "        print(\"This configuration follows halls theorem\")\n",
        "        matching = []\n",
        "        visited = set()\n",
        "        selection_algorithm(pair_possible_configuration_task,visited,0,matching)\n",
        "        local_computation_time = 0\n",
        "        local_energy_consumption = 0\n",
        "        upload_time = 0\n",
        "        edge_device_computing_time = 0\n",
        "        transmission_energy = 0\n",
        "\n",
        "        for i in range(0, pair_possible_configuration_task):\n",
        "          offloaded_bits = offloading_factor_value\n",
        "          selected_edge_device = 0\n",
        "\n",
        "          for j in range(0,len(matching)):\n",
        "            if (matching[j][0] == pair_possible_configuration_task[i][1]):\n",
        "              selected_edge_device = matching[j][1]\n",
        "          \n",
        "          uplink_rate = channel_bandwidth * math.log(1 + (mobile_device_computing_power[pair_possible_configuration_task[i][1]]*channel_gain) / gaussian_noise)\n",
        "          \n",
        "          local_computation_time += ((1 - offloaded_bits) * task_bits[pair_possible_configuration_task[i][1]] * CPU_cycle_task_bit[pair_possible_configuration_task[i][1]]) / mobile_device_computing_power[pair_possible_configuration_task[i][1]]\n",
        "          local_energy_consumption += (1 - offloaded_bits) * task_bits[pair_possible_configuration_task[i][1]] * CPU_cycle_task_bit[pair_possible_configuration_task[i][1]] * (mobile_device_computing_power[pair_possible_configuration_task[i][1]])**2\n",
        "          upload_time += (offloaded_bits * task_bits[pair_possible_configuration_task[i][1]]) / uplink_rate\n",
        "          edge_device_computing_time += (offloaded_bits * task_bits[pair_possible_configuration_task[i][1]] * CPU_cycle_task_bit[pair_possible_configuration_task[i][1]]) / edge_device_computing_power[selected_edge_device]\n",
        "          transmission_energy += ((offloaded_bits * task_bits[pair_possible_configuration_task[i][1]]) / uplink_rate) * mobile_device_transmission_power[pair_possible_configuration_task[i][1]]  \n",
        "        \n",
        "        total_time_taken += local_computation_time + edge_device_computing_time + upload_time\n",
        "        pair_possible_configuration_task = current_excluded\n",
        "\n",
        "      else:\n",
        "        current_excluded.insert(0,pair_possible_configuration_task[len(pair_possible_configuration_task)-1])\n",
        "        pair_possible_configuration_task.pop()\n",
        "    \n",
        "    return total_time_taken\n",
        "\n",
        "\n",
        "    "
      ]
    }
  ],
  "metadata": {
    "colab": {
      "provenance": []
    },
    "kernelspec": {
      "display_name": "Python 3",
      "name": "python3"
    },
    "language_info": {
      "codemirror_mode": {
        "name": "ipython",
        "version": 3
      },
      "file_extension": ".py",
      "mimetype": "text/x-python",
      "name": "python",
      "nbconvert_exporter": "python",
      "pygments_lexer": "ipython3",
      "version": "3.11.1"
    }
  },
  "nbformat": 4,
  "nbformat_minor": 0
}
