{
 "cells": [
  {
   "cell_type": "code",
   "execution_count": 1,
   "metadata": {},
   "outputs": [],
   "source": [
    "# 10 tasks, 10 batches\n",
    "# [[], [], []]\n",
    "import random"
   ]
  },
  {
   "cell_type": "code",
   "execution_count": 10,
   "metadata": {},
   "outputs": [],
   "source": [
    "global_case = []\n",
    "for i in range(0,10):\n",
    "    local_case = []\n",
    "    for j in range(0,10):\n",
    "        local_case.append(random.randint(0,10))\n",
    "    global_case.append(local_case)"
   ]
  },
  {
   "cell_type": "code",
   "execution_count": 11,
   "metadata": {},
   "outputs": [
    {
     "name": "stdout",
     "output_type": "stream",
     "text": [
      "[[4, 0, 5, 0, 4, 6, 4, 1, 0, 2], [8, 2, 2, 3, 3, 4, 1, 3, 10, 7], [9, 8, 10, 7, 2, 3, 7, 0, 4, 0], [5, 3, 5, 6, 4, 6, 8, 3, 0, 0], [3, 1, 8, 9, 7, 10, 10, 10, 3, 10], [2, 10, 4, 0, 5, 1, 10, 8, 4, 3], [2, 1, 4, 10, 2, 4, 0, 10, 6, 3], [3, 3, 7, 5, 10, 8, 7, 5, 7, 7], [5, 8, 10, 2, 0, 0, 0, 2, 1, 4], [4, 10, 8, 9, 1, 10, 6, 10, 6, 1]]\n"
     ]
    }
   ],
   "source": [
    "print(global_case)"
   ]
  },
  {
   "cell_type": "code",
   "execution_count": null,
   "metadata": {},
   "outputs": [],
   "source": []
  }
 ],
 "metadata": {
  "kernelspec": {
   "display_name": "Python 3",
   "language": "python",
   "name": "python3"
  },
  "language_info": {
   "codemirror_mode": {
    "name": "ipython",
    "version": 3
   },
   "file_extension": ".py",
   "mimetype": "text/x-python",
   "name": "python",
   "nbconvert_exporter": "python",
   "pygments_lexer": "ipython3",
   "version": "3.11.1"
  }
 },
 "nbformat": 4,
 "nbformat_minor": 2
}
