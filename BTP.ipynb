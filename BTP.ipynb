{
  "cells": [
    {
      "cell_type": "code",
      "execution_count": 2,
      "metadata": {
        "id": "WOqD8tDpSHVc"
      },
      "outputs": [],
      "source": [
        "# Halls theorem : it states that if there is a set S having n elements and a set T having m elements with the preference for each i in S as {T2,T3,T4},{T1,T3,T4}....{T1,Tm}\n",
        "# then if for each subset in S, P if cardinality(P) <= cardinality(Neighbour(P)) then a matching is possible for this bipartite graph (no two edges must have a common vertex)\n",
        "# A -> (1, 2) , B -> (2), C -> (3)\n",
        "# task -> frequency of arrival, size, CPU cycles required, deadline\n",
        "# ith[1,0,0,0,0]\n",
        "# [0,1,0,0,0]\n",
        "# 0.5\n",
        "# 0th [ 0 0 0 0 0 0.4 0 0 0 0 ]\n",
        "# 1th [ 0 0.2 0 0 0 0 0 0 0 0 ]\n",
        "\n",
        "# matrix of offloading where Aij represents the fraction of bits offloaded to edge server j of task i\n",
        "# A mobile device Ui can only offload to a single edge server Ej\n",
        "# the local computation time = ((1 - sum(Aij)) * Qi * Ci) / fi (Qi -> total bits, Ci -> CPU cycles for single bit, fi -> CPU cycles/sec for the mobile device)\n",
        "# local energy consumption = (1 - sum(Aij)) * Qi * Ci * k * (fi)^2 (k -> mobile constant)\n",
        "# Uplink Rate = Wlog(1 + (Pi * Gij) / N) (W -> uplink channel bandwidth, Pi -> transmission power of device i, Gij -> channel gain, N -> Gaussian Noise)\n",
        "# Upload Time = sum((Aij * Qi) / Rij)\n",
        "# Time at MEC = sum((Aij * Qi * Ci) / fj)\n",
        "# Energy consumed in Transmission = sum(((Aij * Qi) / Rij) * Pi)\n",
        "\n",
        "# Overall Delay = T(local) + T(transmission) + T(MEC)\n",
        "# Overall Energy = E(local) + E(transmission)\n",
        "# utility\n",
        "# Priority of task = Total CPU Cycles / Execution Deadline\n",
        "# Priority of Edge Server = Fj / (dist(u,Mj)) ^ x\n",
        "\n",
        "# Threshold for edge server selection priority >= 0.6\n",
        "# (A,B,C), (A,D), (A,E) -> 0.6\n",
        "# (A,D,E), (A,E), (A,W) -> 0.7\n",
        "\n",
        "# Threshold vs Energy, Threshold vs Time, Threshold vs Matching Found\n",
        "\n",
        "# Assumption\n",
        "# Each mobile device has a single task to perform"
      ]
    },
    {
      "cell_type": "code",
      "execution_count": 30,
      "metadata": {
        "id": "oq35VidjcCHg"
      },
      "outputs": [],
      "source": [
        "import math\n",
        "import matplotlib.pyplot as plt\n",
        "import numpy as np"
      ]
    },
    {
      "cell_type": "code",
      "execution_count": 31,
      "metadata": {
        "colab": {
          "base_uri": "https://localhost:8080/"
        },
        "id": "Gew7vbdlZyb7",
        "outputId": "2d9f4967-008a-494e-fe84-6756bc78b14a"
      },
      "outputs": [
        {
          "name": "stdout",
          "output_type": "stream",
          "text": [
            "[0.  0.1 0.2 0.3 0.4 0.5 0.6 0.7 0.8 0.9 1.  1.1 1.2 1.3 1.4 1.5 1.6 1.7\n",
            " 1.8 1.9 2. ]\n",
            "[[0, 1, 2, 3, 4, 5], [0, 1, 2, 3, 4, 5], [0, 1, 2, 3, 4, 5], [0, 1, 2, 3, 4, 5]]\n",
            "This configuration follows halls theorem\n",
            "[[0, 0], [1, 1], [2, 2], [3, 3]]\n",
            "[[0.5, 0, 0, 0, 0, 0], [0, 0.5, 0, 0, 0, 0], [0, 0, 0.5, 0, 0, 0], [0, 0, 0, 0.5, 0, 0]]\n",
            "[[0, 1, 2, 3, 4, 5], [0, 1, 2, 3, 4, 5], [0, 1, 2, 3, 4, 5], [0, 1, 2, 3, 4, 5]]\n",
            "This configuration follows halls theorem\n",
            "[[0, 0], [1, 1], [2, 2], [3, 3]]\n",
            "[[0.5, 0, 0, 0, 0, 0], [0, 0.5, 0, 0, 0, 0], [0, 0, 0.5, 0, 0, 0], [0, 0, 0, 0.5, 0, 0]]\n",
            "[[1, 2, 3, 4, 5], [1, 2, 3, 4, 5], [1, 2, 3, 4, 5], [1, 2, 3, 4, 5]]\n",
            "This configuration follows halls theorem\n",
            "[[0, 1], [1, 2], [2, 3], [3, 4]]\n",
            "[[0, 0.5, 0, 0, 0, 0], [0, 0, 0.5, 0, 0, 0], [0, 0, 0, 0.5, 0, 0], [0, 0, 0, 0, 0.5, 0]]\n",
            "[[1, 2, 3, 4, 5], [1, 2, 3, 4, 5], [1, 2, 3, 4, 5], [1, 2, 3, 4, 5]]\n",
            "This configuration follows halls theorem\n",
            "[[0, 1], [1, 2], [2, 3], [3, 4]]\n",
            "[[0, 0.5, 0, 0, 0, 0], [0, 0, 0.5, 0, 0, 0], [0, 0, 0, 0.5, 0, 0], [0, 0, 0, 0, 0.5, 0]]\n",
            "[[1, 2, 3, 4], [1, 2, 3, 4], [1, 2, 3, 4], [1, 2, 3, 4, 5]]\n",
            "This configuration follows halls theorem\n",
            "[[0, 1], [1, 2], [2, 3], [3, 4]]\n",
            "[[0, 0.5, 0, 0, 0, 0], [0, 0, 0.5, 0, 0, 0], [0, 0, 0, 0.5, 0, 0], [0, 0, 0, 0, 0.5, 0]]\n",
            "[[1, 2, 3, 4], [2, 3, 4], [2, 3, 4], [1, 2, 3, 4]]\n",
            "This configuration follows halls theorem\n",
            "[[0, 1], [1, 2], [2, 3], [3, 4]]\n",
            "[[0, 0.5, 0, 0, 0, 0], [0, 0, 0.5, 0, 0, 0], [0, 0, 0, 0.5, 0, 0], [0, 0, 0, 0, 0.5, 0]]\n",
            "[[2, 3, 4], [2, 3, 4], [2, 3, 4], [1, 2, 3, 4]]\n",
            "This configuration follows halls theorem\n",
            "[[0, 2], [1, 3], [2, 4], [3, 1]]\n",
            "[[0, 0, 0.5, 0, 0, 0], [0, 0, 0, 0.5, 0, 0], [0, 0, 0, 0, 0.5, 0], [0, 0.5, 0, 0, 0, 0]]\n",
            "[[2, 3, 4], [2, 3, 4], [2, 3, 4], [2, 3, 4]]\n",
            "This configuration doesnot follows halls theorem\n",
            "[]\n",
            "[[0, 0, 0, 0, 0, 0], [0, 0, 0, 0, 0, 0], [0, 0, 0, 0, 0, 0], [0, 0, 0, 0, 0, 0]]\n",
            "[[2, 3, 4], [2, 3, 4], [2, 3, 4], [2, 3, 4]]\n",
            "This configuration doesnot follows halls theorem\n",
            "[]\n",
            "[[0, 0, 0, 0, 0, 0], [0, 0, 0, 0, 0, 0], [0, 0, 0, 0, 0, 0], [0, 0, 0, 0, 0, 0]]\n",
            "[[2, 3, 4], [2, 3, 4], [2, 3, 4], [2, 3, 4]]\n",
            "This configuration doesnot follows halls theorem\n",
            "[]\n",
            "[[0, 0, 0, 0, 0, 0], [0, 0, 0, 0, 0, 0], [0, 0, 0, 0, 0, 0], [0, 0, 0, 0, 0, 0]]\n",
            "[[2, 3, 4], [2, 3, 4], [2, 3, 4], [2, 3, 4]]\n",
            "This configuration doesnot follows halls theorem\n",
            "[]\n",
            "[[0, 0, 0, 0, 0, 0], [0, 0, 0, 0, 0, 0], [0, 0, 0, 0, 0, 0], [0, 0, 0, 0, 0, 0]]\n",
            "[[2], [2], [2], [2, 3, 4]]\n",
            "This configuration doesnot follows halls theorem\n",
            "[]\n",
            "[[0, 0, 0, 0, 0, 0], [0, 0, 0, 0, 0, 0], [0, 0, 0, 0, 0, 0], [0, 0, 0, 0, 0, 0]]\n",
            "[[], [], [], [2, 3, 4]]\n",
            "This configuration doesnot follows halls theorem\n",
            "[]\n",
            "[[0, 0, 0, 0, 0, 0], [0, 0, 0, 0, 0, 0], [0, 0, 0, 0, 0, 0], [0, 0, 0, 0, 0, 0]]\n",
            "[[], [], [], [2, 3]]\n",
            "This configuration doesnot follows halls theorem\n",
            "[]\n",
            "[[0, 0, 0, 0, 0, 0], [0, 0, 0, 0, 0, 0], [0, 0, 0, 0, 0, 0], [0, 0, 0, 0, 0, 0]]\n",
            "[[], [], [], [2]]\n",
            "This configuration doesnot follows halls theorem\n",
            "[]\n",
            "[[0, 0, 0, 0, 0, 0], [0, 0, 0, 0, 0, 0], [0, 0, 0, 0, 0, 0], [0, 0, 0, 0, 0, 0]]\n",
            "[[], [], [], [2]]\n",
            "This configuration doesnot follows halls theorem\n",
            "[]\n",
            "[[0, 0, 0, 0, 0, 0], [0, 0, 0, 0, 0, 0], [0, 0, 0, 0, 0, 0], [0, 0, 0, 0, 0, 0]]\n",
            "[[], [], [], [2]]\n",
            "This configuration doesnot follows halls theorem\n",
            "[]\n",
            "[[0, 0, 0, 0, 0, 0], [0, 0, 0, 0, 0, 0], [0, 0, 0, 0, 0, 0], [0, 0, 0, 0, 0, 0]]\n",
            "[[], [], [], [2]]\n",
            "This configuration doesnot follows halls theorem\n",
            "[]\n",
            "[[0, 0, 0, 0, 0, 0], [0, 0, 0, 0, 0, 0], [0, 0, 0, 0, 0, 0], [0, 0, 0, 0, 0, 0]]\n",
            "[[], [], [], [2]]\n",
            "This configuration doesnot follows halls theorem\n",
            "[]\n",
            "[[0, 0, 0, 0, 0, 0], [0, 0, 0, 0, 0, 0], [0, 0, 0, 0, 0, 0], [0, 0, 0, 0, 0, 0]]\n",
            "[[], [], [], []]\n",
            "This configuration doesnot follows halls theorem\n",
            "[]\n",
            "[[0, 0, 0, 0, 0, 0], [0, 0, 0, 0, 0, 0], [0, 0, 0, 0, 0, 0], [0, 0, 0, 0, 0, 0]]\n",
            "[[], [], [], []]\n",
            "This configuration doesnot follows halls theorem\n",
            "[]\n",
            "[[0, 0, 0, 0, 0, 0], [0, 0, 0, 0, 0, 0], [0, 0, 0, 0, 0, 0], [0, 0, 0, 0, 0, 0]]\n"
          ]
        }
      ],
      "source": [
        "threshold = np.arange(0.0, 2.1, 0.1)\n",
        "print(threshold)\n",
        "energy = []\n",
        "time = []\n",
        "for server_selection_threshold in threshold:\n",
        "  # edge server selection\n",
        "  computing_power = [10, 14, 23, 45, 55, 21] # CPU cycles/sec\n",
        "  edge_server_x_coordinate = [92, 23, 22, 45, 52, 62]\n",
        "  edge_server_y_coordinate = [10, 9, 22, 30, 10, 20]\n",
        "  mobile_device_x_coordinate = [2, 3, 3, 11]\n",
        "  mobile_device_y_coordinate = [20, 29, 29, 28]\n",
        "  # server_selection_threshold = 0.6\n",
        "  number_of_mobile_devices = 4\n",
        "  number_of_edge_servers = 6\n",
        "  possible_configuration = []\n",
        "  for i in range(0, number_of_mobile_devices):\n",
        "    possible_edge_servers = []\n",
        "    for j in range(0, number_of_edge_servers):\n",
        "      planar_distance = math.sqrt((edge_server_x_coordinate[j]-mobile_device_x_coordinate[i])**2 + (edge_server_y_coordinate[j]-mobile_device_y_coordinate[i])**2)\n",
        "      priority = computing_power[j] / planar_distance\n",
        "      if priority >= server_selection_threshold:\n",
        "        possible_edge_servers.append([j,priority])\n",
        "    sorted(possible_edge_servers, key=lambda edge_server: edge_server[1], reverse = True)\n",
        "    sorted_by_priority_edge_server = []\n",
        "    for list in possible_edge_servers:\n",
        "      sorted_by_priority_edge_server.append(list[0])\n",
        "    possible_configuration.append(sorted_by_priority_edge_server)\n",
        "\n",
        "  print(possible_configuration)\n",
        "  # S = [[1,2], [3,4]]\n",
        "  # Card(S) = 2\n",
        "  # Card(N(S)) = p = {1,2,3,4} => 4\n",
        "  # Card(N(S)) >= Card(S)\n",
        "  def cardinality_of_neighbours(nums):\n",
        "    distinct_elements = set()\n",
        "    for list in nums:\n",
        "      for element in list:\n",
        "        distinct_elements.add(element)\n",
        "    return len(distinct_elements)\n",
        "  def halls_theorem(configuration, subset, index):\n",
        "    if index == len(configuration):\n",
        "      if len(subset) <= cardinality_of_neighbours(subset):\n",
        "        return True\n",
        "      else:\n",
        "        return False\n",
        "\n",
        "    ans = True\n",
        "    # including\n",
        "    subset.append(configuration[index])\n",
        "    ans = ans and halls_theorem(configuration, subset, index + 1)\n",
        "    subset.pop()\n",
        "    # excluding\n",
        "    ans = ans and halls_theorem(configuration, subset, index + 1)\n",
        "    return ans\n",
        "  if halls_theorem(possible_configuration, [], 0):\n",
        "    print(\"This configuration follows halls theorem\")\n",
        "  else:\n",
        "    print(\"This configuration doesnot follows halls theorem\")\n",
        "  def selection_algorithm(possible_configuration, priority_task, visited, index, matching): # O(n * 2 ^ (m))\n",
        "    if index == len(priority_task):\n",
        "      return True\n",
        "    found = False\n",
        "    for edge_server in possible_configuration[priority_task[index][1]]:\n",
        "      if edge_server not in visited:\n",
        "        visited.add(edge_server)\n",
        "        matching.append([priority_task[index][1],edge_server])\n",
        "        found = found or selection_algorithm(possible_configuration, priority_task, visited, index + 1, matching)\n",
        "        if found:\n",
        "          return True;\n",
        "        matching.pop()\n",
        "        visited.remove(edge_server)\n",
        "    return found\n",
        "  mobile_device_computing_power = [10, 20, 10, 30] #CPU cylces/sec\n",
        "  mobile_device_transmission_power = [2, 3, 1, 2]\n",
        "  task_bits = [200, 102, 202, 101] #bits\n",
        "  CPU_cycle_task_bit = [1, 2, 2, 1] #CPU cycle for a single bit\n",
        "  execution_deadline = [10, 20, 10, 30] #sec\n",
        "  priority_task = []\n",
        "  for i in range(0,number_of_mobile_devices):\n",
        "    priority_task.append([(task_bits[i] * CPU_cycle_task_bit[i]) / execution_deadline[i],i])\n",
        "  sorted(priority_task, key=lambda priority: priority[0], reverse = True)\n",
        "  matching = []\n",
        "  visited = set()\n",
        "  if len(possible_configuration) > 0:\n",
        "    selection_algorithm(possible_configuration, priority_task, visited, 0, matching)\n",
        "  print(matching)\n",
        "  offloading_factor = 0.5\n",
        "  matching_matrix = [];\n",
        "  for i in range(0, number_of_mobile_devices):\n",
        "    row = [];\n",
        "    for j in range(0, number_of_edge_servers):\n",
        "      row.append(0)\n",
        "    matching_matrix.append(row)\n",
        "  for list in matching:\n",
        "    matching_matrix[list[0]][list[1]] = offloading_factor\n",
        "  print(matching_matrix)\n",
        "  local_computation_time = 0\n",
        "  local_energy_consumption = 0\n",
        "  mobile_constant = 1\n",
        "  channel_gain = 1.2 #different for i,j\n",
        "  gaussian_noise = 0.8\n",
        "  channel_bandwidth = 1.8\n",
        "  upload_time = 0\n",
        "  edge_device_computing_time = 0\n",
        "  transmission_energy = 0\n",
        "  uplink_rate = []\n",
        "\n",
        "  for i in range(0, number_of_mobile_devices):\n",
        "    offloaded_bits = 0\n",
        "    selected_edge_device = 0\n",
        "    uplink_rate.append(channel_bandwidth * math.log(1 + (mobile_device_computing_power[i]*channel_gain) / gaussian_noise))\n",
        "    for j in range(0, number_of_edge_servers):\n",
        "      offloaded_bits += matching_matrix[i][j]\n",
        "      if matching_matrix[i][j]:\n",
        "        selected_edge_device = j\n",
        "    local_computation_time += ((1 - offloaded_bits) * task_bits[i] * CPU_cycle_task_bit[i]) / mobile_device_computing_power[i]\n",
        "    local_energy_consumption += (1 - offloaded_bits) * task_bits[i] * CPU_cycle_task_bit[i] * (mobile_device_computing_power[i])**2\n",
        "    upload_time += (offloaded_bits * task_bits[i]) / uplink_rate[i]\n",
        "    edge_device_computing_time += (offloaded_bits * task_bits[i] * CPU_cycle_task_bit[i]) / computing_power[selected_edge_device]\n",
        "    transmission_energy += ((offloaded_bits * task_bits[i]) / uplink_rate[i]) * mobile_device_transmission_power[i]\n",
        "\n",
        "  # print(\"overall delay is :\", (local_computation_time + edge_device_computing_time + upload_time))\n",
        "  # print(\"overall energy consumption is :\", local_energy_consumption + transmission_energy)\n",
        "  time.append(local_computation_time + edge_device_computing_time + upload_time)\n",
        "  energy.append(local_energy_consumption + transmission_energy)\n"
      ]
    },
    {
      "cell_type": "code",
      "execution_count": 32,
      "metadata": {
        "colab": {
          "base_uri": "https://localhost:8080/"
        },
        "id": "1lyRSWRrzc0I",
        "outputId": "73431357-f218-45a1-e056-1fac08363863"
      },
      "outputs": [
        {
          "name": "stdout",
          "output_type": "stream",
          "text": [
            "[120.02778061935635, 120.02778061935635, 109.82194587439118, 109.82194587439118, 109.82194587439118, 109.82194587439118, 106.731598299261, 73.96666666666665, 73.96666666666665, 73.96666666666665, 73.96666666666665, 73.96666666666665, 73.96666666666665, 73.96666666666665, 73.96666666666665, 73.96666666666665, 73.96666666666665, 73.96666666666665, 73.96666666666665, 73.96666666666665, 73.96666666666665]\n",
            "[116549.7208545564, 116549.7208545564, 116549.7208545564, 116549.7208545564, 116549.7208545564, 116549.7208545564, 116549.7208545564, 232900.0, 232900.0, 232900.0, 232900.0, 232900.0, 232900.0, 232900.0, 232900.0, 232900.0, 232900.0, 232900.0, 232900.0, 232900.0, 232900.0]\n"
          ]
        }
      ],
      "source": [
        "print(time)\n",
        "print(energy)"
      ]
    },
    {
      "cell_type": "code",
      "execution_count": 33,
      "metadata": {},
      "outputs": [
        {
          "data": {
            "text/plain": [
              "[<matplotlib.lines.Line2D at 0x27c8e9a0750>]"
            ]
          },
          "execution_count": 33,
          "metadata": {},
          "output_type": "execute_result"
        },
        {
          "data": {
            "image/png": "[encoded data removed]",
            "text/plain": [
              "<Figure size 640x480 with 1 Axes>"
            ]
          },
          "metadata": {},
          "output_type": "display_data"
        }
      ],
      "source": [
        "plt.plot(threshold, energy)"
      ]
    },
    {
      "cell_type": "code",
      "execution_count": 34,
      "metadata": {},
      "outputs": [
        {
          "data": {
            "text/plain": [
              "[<matplotlib.lines.Line2D at 0x27c8ea2ffd0>]"
            ]
          },
          "execution_count": 34,
          "metadata": {},
          "output_type": "execute_result"
        },
        {
          "data": {
            "image/png": "[encoded data removed]",
            "text/plain": [
              "<Figure size 640x480 with 1 Axes>"
            ]
          },
          "metadata": {},
          "output_type": "display_data"
        }
      ],
      "source": [
        "plt.plot(threshold, time)"
      ]
    }
  ],
  "metadata": {
    "colab": {
      "provenance": []
    },
    "kernelspec": {
      "display_name": "Python 3",
      "name": "python3"
    },
    "language_info": {
      "codemirror_mode": {
        "name": "ipython",
        "version": 3
      },
      "file_extension": ".py",
      "mimetype": "text/x-python",
      "name": "python",
      "nbconvert_exporter": "python",
      "pygments_lexer": "ipython3",
      "version": "3.11.1"
    }
  },
  "nbformat": 4,
  "nbformat_minor": 0
}
