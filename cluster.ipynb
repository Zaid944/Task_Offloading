{
 "cells": [
  {
   "cell_type": "code",
   "execution_count": null,
   "metadata": {},
   "outputs": [],
   "source": [
    "# multiple clusters\n",
    "# each cluster has edge devices with x,y coordinates\n",
    "# conditional probability for a cluster = (cluster probability) / (sum of all cluster probabilities)\n",
    "# cluster probability = e^(-gth * di)\n",
    "# di -> cluster and mobile device (distance)\n",
    "# sum -> 1000 terms\n",
    "# +1 -> common difference, ni(t), ni(t) + 1, ni(t) + 2\n",
    "# ni(t) = 10\n",
    "# delay tolerance -> 1sec\n",
    "# Gth -> 10\n",
    "# denominator = sum of numerator (i!=j)\n",
    "# rd -> distance threshold \n",
    "# set of clusters dist <= rd\n",
    "# cluster centroid \n",
    "# time global var \n",
    "\n",
    "#   Task5       Task1 , Task2 -> C1\n",
    "#   Task6       Task3 -> C2 -> Task5\n",
    "#          Task4 -> C3\n",
    "\n",
    "# (k , k + 1/p) -> busy cluster\n",
    "# t = 0, t = k, t = 2 * k"
   ]
  },
  {
   "cell_type": "code",
   "execution_count": 3,
   "metadata": {},
   "outputs": [],
   "source": [
    "import math"
   ]
  },
  {
   "cell_type": "code",
   "execution_count": null,
   "metadata": {},
   "outputs": [],
   "source": [
    "factorial = [1]\n",
    "def calculate_factorial():\n",
    "    for i in range(1,20 + 1):\n",
    "        factorial.append(factorial[i - 1] * i)"
   ]
  },
  {
   "cell_type": "code",
   "execution_count": null,
   "metadata": {},
   "outputs": [],
   "source": [
    "# [[], []] -> edge cluster x coordinates, [[], []] -> mobile device\n",
    "# e^(-nc * t) * ((nc * t)^nc / nc!)\n",
    "def probability_cluster_task(edge_device_cluster_coordinates, mobile_device_coordinates):\n",
    "    power_gain_threshold = 10\n",
    "    centroid_x_coordinate = sum(edge_device_cluster_coordinates[0]) / len(edge_device_cluster_coordinates[0])\n",
    "    centroid_y_coordinate = sum(edge_device_cluster_coordinates[1]) / len(edge_device_cluster_coordinates[1])\n",
    "    distance_cluster_mobile_device = math.sqrt((centroid_x_coordinate-mobile_device_coordinates[0]) * (centroid_x_coordinate-mobile_device_coordinates[0]) + (centroid_y_coordinate-mobile_device_coordinates[1]) * (centroid_y_coordinate-mobile_device_coordinates[1]))\n",
    "    probability_part_1 = pow(math.e, (power_gain_threshold * distance_cluster_mobile_device))\n",
    "    probability_part_2 = 0\n",
    "    number_of_computing_tasks_at_cluster = 10\n",
    "    delay_tolerance = 1\n",
    "    for i in range(0, 20 + 1):\n",
    "        probability_part_2 += pow(math.e, -(number_of_computing_tasks_at_cluster + i) * delay_tolerance) * ((pow((number_of_computing_tasks_at_cluster + i) * delay_tolerance, (number_of_computing_tasks_at_cluster + i))) / factorial[number_of_computing_tasks_at_cluster + i])\n",
    "    probability_final = probability_part_1 * probability_part_2\n",
    "    return probability_final"
   ]
  },
  {
   "cell_type": "code",
   "execution_count": null,
   "metadata": {},
   "outputs": [],
   "source": [
    "def cluster_assigning(threshold,offloading_factor_value):\n",
    "    # 10 * 10 matrix\n",
    "    mobile_device_cluster_probability = []\n",
    "    for i in range(0,10):\n",
    "        for j in range(0,10):\n",
    "            probability_mobile_device_each_cluster = []\n",
    "            for k in range(0,10):\n",
    "                probability_mobile_device_each_cluster.append(probability_cluster_task([edge_device_cluster_x_coordinates[j][k],edge_device_cluster_y_coordinates[j][k]], [mobile_device_x_coordinates[i],mobile_device_y_coordinates[i]]))\n",
    "            mobile_device_cluster_probability.append(probability_mobile_device_each_cluster)\n",
    "    task_interval = 10\n",
    "    for time_interval in range(0,10):\n",
    "        current_time = task_interval * time_interval\n",
    "        assigned_tasks_to_cluster = []\n",
    "\n",
    "        for i in range(0,10):\n",
    "            assigned_tasks_to_cluster.append([])\n",
    "\n",
    "        for mobile_device in range(0,10):\n",
    "            max_probability = 0\n",
    "            selected_cluster = -1\n",
    "            for edge_device_cluster in range(0,10):\n",
    "                if current_time < free_cluster_next_time[edge_device_cluster]:\n",
    "                    continue\n",
    "                if (max_probability < mobile_device_cluster_probability[mobile_device][edge_device_cluster]):\n",
    "                    max_probability = mobile_device_cluster_probability[mobile_device][edge_device_cluster]\n",
    "                    selected_cluster = edge_device_cluster\n",
    "            if selected_cluster != -1:\n",
    "                assigned_tasks_to_cluster[selected_cluster].append(mobile_device)\n",
    "            # else:\n",
    "                #do something\n",
    "\n",
    "        for i in range(0,len(assigned_tasks_to_cluster)):\n",
    "            if (len(assigned_tasks_to_cluster[i]) > 0):\n",
    "                mobile_device_local_coordinate_x = [], mobile_device_local_coordinate_y = []\n",
    "                for j in range(0,len(assigned_tasks_to_cluster[i])):\n",
    "                    mobile_device_local_coordinate_x.append(mobile_device_x_coordinates[assigned_tasks_to_cluster[i][j]])\n",
    "                    mobile_device_local_coordinate_y.append(mobile_device_y_coordinates[assigned_tasks_to_cluster[i][j]])\n",
    "                local_time = edge_device_selection(edge_device_cluster_x_coordinates[i],edge_device_cluster_y_coordinates[i],mobile_device_local_coordinate_x,mobile_device_local_coordinate_y,threshold,offloading_factor_value,mobile_device_computing_power,mobile_device_transmission_power,task_bits,CPU_cycle_task_bit,execution_deadline,edge_device_computing_power)\n",
    "                free_cluster_next_time[i] = current_time + task_interval + local_time + 1\n",
    "\n",
    "            \n"
   ]
  }
 ],
 "metadata": {
  "kernelspec": {
   "display_name": "Python 3",
   "language": "python",
   "name": "python3"
  },
  "language_info": {
   "codemirror_mode": {
    "name": "ipython",
    "version": 3
   },
   "file_extension": ".py",
   "mimetype": "text/x-python",
   "name": "python",
   "nbconvert_exporter": "python",
   "pygments_lexer": "ipython3",
   "version": "3.11.1"
  }
 },
 "nbformat": 4,
 "nbformat_minor": 2
}
