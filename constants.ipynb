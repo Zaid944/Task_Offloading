{
 "cells": [
  {
   "cell_type": "code",
   "execution_count": 24,
   "metadata": {},
   "outputs": [],
   "source": [
    "# constants\n",
    "mobile_constant = 1\n",
    "channel_gain = 1.2 #different for i,j\n",
    "gaussian_noise = 0.8\n",
    "channel_bandwidth = 1.8"
   ]
  },
  {
   "cell_type": "code",
   "execution_count": 25,
   "metadata": {},
   "outputs": [],
   "source": [
    "# batches\n",
    "mobile_device_x_coordinates = [5, 6, 0, 9, 10, 3, 10, 4, 6, 6, 2, 4, 5, 2, 4, 3, 4, 1, 2, 3, 4, 5, 5, 5]\n",
    "mobile_device_y_coordinates = [3, 10, 9, 8, 8, 10, 3, 1, 9, 1, 1, 2, 3, 4, 5, 6, 4, 2, 3, 4, 4, 2, 3, 4]\n",
    "# 10 clusters 10 edge devices\n",
    "edge_device_cluster_x_coordinates = [[5, 0, 7, 8, 5, 1, 1, 4, 7, 4], [8, 5, 4, 6, 8, 10, 9, 9, 10, 4], [6, 4, 2, 10, 2, 7, 3, 2, 10, 3], [5, 9, 7, 3, 4, 1, 8, 4, 6, 7], [0, 3, 7, 5, 10, 3, 2, 5, 7, 6], [7, 8, 9, 7, 10, 1, 2, 0, 1, 6], [7, 6, 7, 5, 6, 9, 4, 3, 5, 10], [3, 3, 4, 0, 1, 6, 7, 8, 3, 4], [4, 6, 3, 7, 1, 2, 8, 5, 4, 1], [9, 2, 4, 10, 10, 3, 2, 10, 4, 4]]\n",
    "edge_device_cluster_y_coordinates = [[4, 0, 5, 0, 4, 6, 4, 1, 0, 2], [8, 2, 2, 3, 3, 4, 1, 3, 10, 7], [9, 8, 10, 7, 2, 3, 7, 0, 4, 0], [5, 3, 5, 6, 4, 6, 8, 3, 0, 0], [3, 1, 8, 9, 7, 10, 10, 10, 3, 10], [2, 10, 4, 0, 5, 1, 10, 8, 4, 3], [2, 1, 4, 10, 2, 4, 0, 10, 6, 3], [3, 3, 7, 5, 10, 8, 7, 5, 7, 7], [5, 8, 10, 2, 0, 0, 0, 2, 1, 4], [4, 10, 8, 9, 1, 10, 6, 10, 6, 1]]\n",
    "# data set\n",
    "mobile_device_computing_power = [10, 20, 10, 30, 40, 20, 10, 5, 30, 20, 20, 20, 10, 30, 40, 20, 30, 20, 10, 30, 30, 40, 30, 10] #CPU cylces/sec\n",
    "mobile_device_transmission_power = [2, 3, 1, 2, 2, 1, 2, 3, 4, 2, 1, 3, 4, 2, 4, 2, 1, 5, 6, 3, 2, 5, 6, 7, 2, 2]\n",
    "task_bits = [200, 102, 202, 101, 202, 100, 300, 453, 222, 111, 222, 333, 111, 444, 222, 222, 111, 444, 222, 444, 122, 443, 444, 555, 333, 222, 111, 444] #bits\n",
    "CPU_cycle_task_bit = [1, 2, 2, 1, 3, 2, 1, 5, 2, 1, 222, 111, 333, 444, 111, 222, 333, 444, 555, 222, 333, 444, 555, 333, 111, 333, 344] #CPU cycle for a single bit\n",
    "execution_deadline = [10, 20, 10, 30, 30, 20, 40, 50, 60, 70, 23, 45, 23, 50, 30, 21, 30, 50, 60, 30, 20, 40] #sec\n",
    "edge_device_computing_power = [10, 14, 23, 45, 55, 21, 22, 12, 40, 30, 32, 56, 34, 21, 50, 50, 60, 20, 40, 40, 10, 20, 30, 40] # CPU cycles/sec\n",
    "free_cluster_next_time = [0, 0, 0, 0, 0, 0, 0, 0, 0, 0]"
   ]
  },
  {
   "cell_type": "code",
   "execution_count": 26,
   "metadata": {},
   "outputs": [
    {
     "name": "stdout",
     "output_type": "stream",
     "text": [
      "Stored 'mobile_constant' (int)\n",
      "Stored 'channel_gain' (float)\n",
      "Stored 'gaussian_noise' (float)\n",
      "Stored 'channel_bandwidth' (float)\n",
      "Stored 'mobile_device_x_coordinates' (list)\n",
      "Stored 'mobile_device_y_coordinates' (list)\n",
      "Stored 'edge_device_cluster_x_coordinates' (list)\n",
      "Stored 'edge_device_cluster_y_coordinates' (list)\n",
      "Stored 'mobile_device_computing_power' (list)\n",
      "Stored 'mobile_device_transmission_power' (list)\n",
      "Stored 'task_bits' (list)\n",
      "Stored 'CPU_cycle_task_bit' (list)\n",
      "Stored 'execution_deadline' (list)\n",
      "Stored 'edge_device_computing_power' (list)\n",
      "Stored 'free_cluster_next_time' (list)\n"
     ]
    }
   ],
   "source": [
    "%store mobile_constant\n",
    "%store channel_gain\n",
    "%store gaussian_noise\n",
    "%store channel_bandwidth\n",
    "%store mobile_device_x_coordinates\n",
    "%store mobile_device_y_coordinates\n",
    "%store edge_device_cluster_x_coordinates\n",
    "%store edge_device_cluster_y_coordinates\n",
    "%store mobile_device_computing_power\n",
    "%store mobile_device_transmission_power\n",
    "%store task_bits\n",
    "%store CPU_cycle_task_bit\n",
    "%store execution_deadline\n",
    "%store edge_device_computing_power\n",
    "%store free_cluster_next_time"
   ]
  }
 ],
 "metadata": {
  "kernelspec": {
   "display_name": "Python 3",
   "language": "python",
   "name": "python3"
  },
  "language_info": {
   "codemirror_mode": {
    "name": "ipython",
    "version": 3
   },
   "file_extension": ".py",
   "mimetype": "text/x-python",
   "name": "python",
   "nbconvert_exporter": "python",
   "pygments_lexer": "ipython3",
   "version": "3.11.1"
  }
 },
 "nbformat": 4,
 "nbformat_minor": 2
}
