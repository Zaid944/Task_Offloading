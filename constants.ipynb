{
 "cells": [
  {
   "cell_type": "code",
   "execution_count": 1,
   "metadata": {},
   "outputs": [],
   "source": [
    "# constants\n",
    "mobile_constant = 1\n",
    "channel_gain = 1.2 #different for i,j\n",
    "gaussian_noise = 0.8\n",
    "channel_bandwidth = 1.8"
   ]
  },
  {
   "cell_type": "code",
   "execution_count": null,
   "metadata": {},
   "outputs": [],
   "source": [
    "# batches\n",
    "mobile_device_x_coordinates = [5, 6, 0, 9, 10, 3, 10, 4, 6, 6]\n",
    "mobile_device_y_coordinates = [3, 10, 9, 8, 8, 10, 3, 1, 9, 1]\n",
    "# 10 clusters 10 edge devices\n",
    "edge_device_cluster_x_coordinates = [[5, 0, 7, 8, 5, 1, 1, 4, 7, 4], [8, 5, 4, 6, 8, 10, 9, 9, 10, 4], [6, 4, 2, 10, 2, 7, 3, 2, 10, 3], [5, 9, 7, 3, 4, 1, 8, 4, 6, 7], [0, 3, 7, 5, 10, 3, 2, 5, 7, 6], [7, 8, 9, 7, 10, 1, 2, 0, 1, 6], [7, 6, 7, 5, 6, 9, 4, 3, 5, 10], [3, 3, 4, 0, 1, 6, 7, 8, 3, 4], [4, 6, 3, 7, 1, 2, 8, 5, 4, 1], [9, 2, 4, 10, 10, 3, 2, 10, 4, 4]]\n",
    "edge_device_cluster_y_coordinates = [[4, 0, 5, 0, 4, 6, 4, 1, 0, 2], [8, 2, 2, 3, 3, 4, 1, 3, 10, 7], [9, 8, 10, 7, 2, 3, 7, 0, 4, 0], [5, 3, 5, 6, 4, 6, 8, 3, 0, 0], [3, 1, 8, 9, 7, 10, 10, 10, 3, 10], [2, 10, 4, 0, 5, 1, 10, 8, 4, 3], [2, 1, 4, 10, 2, 4, 0, 10, 6, 3], [3, 3, 7, 5, 10, 8, 7, 5, 7, 7], [5, 8, 10, 2, 0, 0, 0, 2, 1, 4], [4, 10, 8, 9, 1, 10, 6, 10, 6, 1]]\n",
    "# data set\n",
    "mobile_device_computing_power = [10, 20, 10, 30] #CPU cylces/sec\n",
    "mobile_device_transmission_power = [2, 3, 1, 2]\n",
    "task_bits = [200, 102, 202, 101] #bits\n",
    "CPU_cycle_task_bit = [1, 2, 2, 1] #CPU cycle for a single bit\n",
    "execution_deadline = [10, 20, 10, 30] #sec\n",
    "edge_device_computing_power = [10, 14, 23, 45, 55, 21] # CPU cycles/sec\n",
    "free_cluster_next_time = [0, 0, 0, 0, 0, 0, 0, 0, 0, 0]"
   ]
  }
 ],
 "metadata": {
  "kernelspec": {
   "display_name": "Python 3",
   "language": "python",
   "name": "python3"
  },
  "language_info": {
   "codemirror_mode": {
    "name": "ipython",
    "version": 3
   },
   "file_extension": ".py",
   "mimetype": "text/x-python",
   "name": "python",
   "nbconvert_exporter": "python",
   "pygments_lexer": "ipython3",
   "version": "3.11.1"
  }
 },
 "nbformat": 4,
 "nbformat_minor": 2
}
